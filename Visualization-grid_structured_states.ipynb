{
 "cells": [
  {
   "cell_type": "code",
   "execution_count": 1,
   "metadata": {},
   "outputs": [
    {
     "name": "stderr",
     "output_type": "stream",
     "text": [
      "/home/ksk5693/anaconda2/envs/tf1.13_py3.6/lib/python3.6/site-packages/dask/config.py:168: YAMLLoadWarning: calling yaml.load() without Loader=... is deprecated, as the default Loader is unsafe. Please read https://msg.pyyaml.org/load for full details.\n",
      "  data = yaml.load(f.read()) or {}\n"
     ]
    },
    {
     "name": "stdout",
     "output_type": "stream",
     "text": [
      "\n",
      "WARNING: The TensorFlow contrib module will not be included in TensorFlow 2.0.\n",
      "For more information, please see:\n",
      "  * https://github.com/tensorflow/community/blob/master/rfcs/20180907-contrib-sunset.md\n",
      "  * https://github.com/tensorflow/addons\n",
      "If you depend on functionality not listed there, please file an issue.\n",
      "\n",
      "True algebraic_word_problem\n",
      "True seq_in_grid_out_architecture\n",
      "True sigo_hparam_h128_l3_gru_acnn\n"
     ]
    }
   ],
   "source": [
    "import tensorflow as tf\n",
    "import numpy as np\n",
    "import matplotlib.pyplot as plt\n",
    "from results import evaluate_decoded_files\n",
    "import os, auxiliary_utils\n",
    "import warnings\n",
    "import logging\n",
    "warnings.filterwarnings(action='ignore')\n",
    "logging.getLogger('tensorflow').disabled = True\n",
    "%matplotlib inline \n",
    "os.environ[\"CUDA_DEVICE_ORDER\"] = \"PCI_BUS_ID\"\n",
    "os.environ[\"CUDA_VISIBLE_DEVICES\"] = \"0\"\n",
    "from tensor2tensor import models, problems\n",
    "from tensor2tensor.utils import usr_dir, trainer_lib, registry\n",
    "logger = tf.get_logger()\n",
    "logger.propagate = False\n",
    "Modes = tf.estimator.ModeKeys\n",
    "usr_dir.import_usr_dir('./usr_dir/')\n",
    "problem_name = \"algebraic_word_problem\"\n",
    "model_name = 'seq_in_grid_out_architecture'\n",
    "hparam_set = 'sigo_hparam_h128_l3_gru_acnn'\n",
    "step = '64000'\n",
    "trial = 4\n",
    "shard = 0\n",
    "split = \"test\"\n",
    "batch_size = 2048\n",
    "basic_path = '/media/disk1/ksk5693/sessions/t2t/'\n",
    "data_dir = \"/media/disk1/ksk5693/data/t2t_data/\"  # data dir\n",
    "config = tf.ConfigProto()\n",
    "config.gpu_options.per_process_gpu_memory_fraction = 0.95\n",
    "%load_ext autoreload\n",
    "%autoreload 2"
   ]
  },
  {
   "cell_type": "code",
   "execution_count": 2,
   "metadata": {},
   "outputs": [
    {
     "name": "stdout",
     "output_type": "stream",
     "text": [
      "input (60, 32, 1, 1)\n",
      "output (60, 25, 1, 1)\n",
      "targets (60, 15, 1, 1)\n",
      "seq_in_grid_out_architecture/body/seq2grid/action_seq:0 (60, 32, 1, 3)\n",
      "seq_in_grid_out_architecture/body/seq2grid/grid_structured_states:0 (60, 3, 25, 128)\n"
     ]
    }
   ],
   "source": [
    "tf.reset_default_graph()\n",
    "hparams, problem = auxiliary_utils.hparams_set_up(problem_name, data_dir, hparam_set)\n",
    "encoders = problem.feature_encoders(data_dir)\n",
    "hparams.batch_size = batch_size\n",
    "output_dir = evaluate_decoded_files.compose_output_dir(basic_path, \n",
    "                                                       problem_name, \n",
    "                                                       model_name, \n",
    "                                                       hparam_set,\n",
    "                                                       trial)\n",
    "ckp = evaluate_decoded_files.get_ckpt(output_dir, step)\n",
    "\n",
    "dataset_kwargs = {'dataset_split': split, 'shard': shard}\n",
    "eval_input_fn = problem.make_estimator_input_fn(mode=tf.estimator.ModeKeys.EVAL, \\\n",
    "                                                hparams=hparams, \\\n",
    "                                                data_dir=data_dir, \\\n",
    "                                                dataset_kwargs=dataset_kwargs)\n",
    "\n",
    "run_config = trainer_lib.create_run_config(\"None\", model_dir=ckp)\n",
    "input_iterator = eval_input_fn(hparams, run_config).make_one_shot_iterator()\n",
    "translate_model = registry.model(model_name)(hparams, Modes.EVAL)\n",
    "inputs, targets = input_iterator.get_next()\n",
    "model_output = translate_model.infer(inputs)\n",
    "interest = {\"input\": inputs[\"inputs\"],\n",
    "            \"output\": model_output,\n",
    "            \"targets\": inputs[\"targets\"]\n",
    "           }\n",
    "node_keywords = [\"grid_structured_states\", \"action_seq\"]\n",
    "interest_node = dict([(op.name, op) for op in tf.contrib.graph_editor.get_tensors(tf.get_default_graph()) \n",
    "                     if auxiliary_utils.keyword_filter(node_keywords, op)])\n",
    "interest.update(interest_node)\n",
    "saver = tf.train.Saver()\n",
    "with tf.Session(config=config) as sess:\n",
    "    saver.restore(sess, ckp)  \n",
    "    interest_np = auxiliary_utils.show_dict(interest, sess, squeeze=True)"
   ]
  },
  {
   "cell_type": "code",
   "execution_count": 3,
   "metadata": {},
   "outputs": [],
   "source": [
    "interest_np = dict([(k.split(\"/\")[-1].split(\":\")[0], v) for k, v in interest_np.items()])"
   ]
  },
  {
   "cell_type": "code",
   "execution_count": 7,
   "metadata": {},
   "outputs": [
    {
     "name": "stdout",
     "output_type": "stream",
     "text": [
      "45\n",
      "input: What is -5767711 minus 15577?\n",
      "target: -5783288\n",
      "output: -5783288\n"
     ]
    },
    {
     "data": {
      "text/plain": [
       "<matplotlib.image.AxesImage at 0x7f1e28278eb8>"
      ]
     },
     "execution_count": 7,
     "metadata": {},
     "output_type": "execute_result"
    },
    {
     "data": {
      "image/png": "[encoded data removed]",
      "text/plain": [
       "<Figure size 720x720 with 1 Axes>"
      ]
     },
     "metadata": {
      "needs_background": "light"
     },
     "output_type": "display_data"
    }
   ],
   "source": [
    "batch_size = np.shape(interest_np[\"targets\"])[0]\n",
    "idx = np.random.randint(0, batch_size)\n",
    "print(idx)\n",
    "raw_input = np.squeeze(interest_np[\"input\"][idx])\n",
    "raw_target = np.squeeze(interest_np[\"targets\"][idx])\n",
    "raw_output = np.squeeze(interest_np[\"output\"][idx])\n",
    "action_seq = interest_np[\"action_seq\"][idx]\n",
    "input_str = auxiliary_utils.instant_decode(encoders, raw_input).strip()\n",
    "target_str = auxiliary_utils.instant_decode(encoders, raw_target, \"targets\").strip()\n",
    "output_str = auxiliary_utils.instant_decode(encoders, raw_output).split(\"<EOS>\")[0].strip()\n",
    "print(f\"input: {input_str}\")\n",
    "print(f\"target: {target_str}\")\n",
    "print(f\"output: {output_str}\")\n",
    "top_k = 1\n",
    "vocab_size = encoders[\"inputs\"].vocab_size\n",
    "img_onehot = auxiliary_utils.emulate_NLA_by_one_hots(raw_input, action_seq, 25, 3, vocab_size)\n",
    "final_image = auxiliary_utils.img_symbols(img_onehot, encoders, top_k=top_k)\n",
    "fig = plt.figure(figsize=[10, 10])\n",
    "plt.imshow(final_image, cmap='hot', interpolation='nearest', vmin=0, vmax=1)"
   ]
  },
  {
   "cell_type": "code",
   "execution_count": null,
   "metadata": {},
   "outputs": [],
   "source": []
  }
 ],
 "metadata": {
  "kernelspec": {
   "display_name": "tf1.13_py3.6",
   "language": "python",
   "name": "tf1.13_py3.6"
  },
  "language_info": {
   "codemirror_mode": {
    "name": "ipython",
    "version": 3
   },
   "file_extension": ".py",
   "mimetype": "text/x-python",
   "name": "python",
   "nbconvert_exporter": "python",
   "pygments_lexer": "ipython3",
   "version": "3.6.8"
  }
 },
 "nbformat": 4,
 "nbformat_minor": 2
}
